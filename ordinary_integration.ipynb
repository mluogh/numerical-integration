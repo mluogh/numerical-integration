{
 "cells": [
  {
   "cell_type": "code",
   "execution_count": 1,
   "metadata": {},
   "outputs": [],
   "source": [
    "%load_ext autoreload"
   ]
  },
  {
   "cell_type": "code",
   "execution_count": 1,
   "metadata": {},
   "outputs": [],
   "source": [
    "import monte\n",
    "import integration\n",
    "import time\n",
    "import numpy as np\n",
    "import math"
   ]
  },
  {
   "cell_type": "code",
   "execution_count": 2,
   "metadata": {},
   "outputs": [
    {
     "name": "stdout",
     "output_type": "stream",
     "text": [
      "0.644724178314209 0.0019491691084965624\n",
      "0.5188045501708984 4.519010673220691e-06\n"
     ]
    }
   ],
   "source": [
    "n = 5\n",
    "libs = [monte, integration]\n",
    "\n",
    "for m in libs: \n",
    "    speeds = []\n",
    "    for i in range(n):\n",
    "        t = time.time()\n",
    "        \n",
    "        val = m.importance_sample(\n",
    "                lambda x: 83 * math.exp(-x[0]), # integral\n",
    "                lambda x: math.exp(-x[0]) if x[0] >=0 else 0, # distribution\n",
    "                lambda: np.random.rand(1), # init_fn\n",
    "                [(0, 1)], # integral limits\n",
    "                n=100000)\n",
    "        \n",
    "        speeds.append(time.time() - t)\n",
    "\n",
    "    mean = sum(speeds) / n\n",
    "    var = sum(map(lambda x: (x - mean) ** 2, speeds)) / (n - 1)\n",
    "\n",
    "    print(mean, var)\n",
    "\n"
   ]
  },
  {
   "cell_type": "code",
   "execution_count": 20,
   "metadata": {},
   "outputs": [
    {
     "data": {
      "text/plain": [
       "402.7324902626026"
      ]
     },
     "execution_count": 20,
     "metadata": {},
     "output_type": "execute_result"
    }
   ],
   "source": [
    "monte.integrate_hypercube(lambda x: x[0] * x[1] * x[1] + x[0] + x[1], [(-2, 3), (2, 7)], n=1000000)"
   ]
  },
  {
   "cell_type": "code",
   "execution_count": null,
   "metadata": {},
   "outputs": [],
   "source": []
  }
 ],
 "metadata": {
  "kernelspec": {
   "display_name": "Python 3",
   "language": "python",
   "name": "python3"
  },
  "language_info": {
   "codemirror_mode": {
    "name": "ipython",
    "version": 3
   },
   "file_extension": ".py",
   "mimetype": "text/x-python",
   "name": "python",
   "nbconvert_exporter": "python",
   "pygments_lexer": "ipython3",
   "version": "3.6.1"
  }
 },
 "nbformat": 4,
 "nbformat_minor": 2
}
